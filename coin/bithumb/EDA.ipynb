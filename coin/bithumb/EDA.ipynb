{
 "cells": [
  {
   "cell_type": "code",
   "execution_count": 67,
   "metadata": {
    "collapsed": false,
    "jupyter": {
     "outputs_hidden": false
    },
    "tags": []
   },
   "outputs": [],
   "source": [
    "f = open(\"log.txt\", \"r\")\n",
    "lines = f.readlines()\n",
    "f.close()"
   ]
  },
  {
   "cell_type": "code",
   "execution_count": 68,
   "metadata": {
    "collapsed": false,
    "jupyter": {
     "outputs_hidden": false
    },
    "tags": []
   },
   "outputs": [
    {
     "data": {
      "text/plain": [
       "(0, 0)"
      ]
     },
     "execution_count": 68,
     "metadata": {},
     "output_type": "execute_result"
    }
   ],
   "source": [
    "holder = dict()\n",
    "earn = 0\n",
    "transaction = 0\n",
    "\n",
    "for item in lines:\n",
    "    ticker, category, buySell, _, amount, rate = item.strip(\"\\n\").split()\n",
    "    amount = float(amount)\n",
    "    if ticker in holder:\n",
    "        if buySell == \"BUY\":\n",
    "            holder[ticker] = amount\n",
    "        elif buySell == \"SELL\" and holder[ticker] > 0:\n",
    "            if amount - holder[ticker] > 0:\n",
    "                earn += 1\n",
    "            holder[ticker] = 0\n",
    "            transaction += 1\n",
    "    else:\n",
    "        if buySell == \"BUY\":\n",
    "            holder[ticker] = amount\n",
    "            \n",
    "earn , transaction"
   ]
  },
  {
   "cell_type": "code",
   "execution_count": 69,
   "metadata": {
    "collapsed": false,
    "jupyter": {
     "outputs_hidden": false
    },
    "tags": []
   },
   "outputs": [
    {
     "data": {
      "text/plain": [
       "{'BLUR': 718.4,\n",
       " 'BOA': 39.4,\n",
       " 'CTC': 472.2,\n",
       " 'QTUM': 4137.0,\n",
       " 'MXC': 26.26,\n",
       " 'VET': 30.51,\n",
       " 'WOZX': 70.14,\n",
       " 'STEEM': 282.3}"
      ]
     },
     "execution_count": 69,
     "metadata": {},
     "output_type": "execute_result"
    }
   ],
   "source": [
    "holder"
   ]
  },
  {
   "cell_type": "code",
   "execution_count": null,
   "metadata": {
    "collapsed": true,
    "jupyter": {
     "outputs_hidden": true
    }
   },
   "outputs": [],
   "source": []
  },
  {
   "cell_type": "code",
   "execution_count": null,
   "metadata": {},
   "outputs": [],
   "source": []
  }
 ],
 "metadata": {
  "kernelspec": {
   "display_name": "Python 3 (ipykernel)",
   "language": "python",
   "name": "python3"
  },
  "language_info": {
   "codemirror_mode": {
    "name": "ipython",
    "version": 3
   },
   "file_extension": ".py",
   "mimetype": "text/x-python",
   "name": "python",
   "nbconvert_exporter": "python",
   "pygments_lexer": "ipython3",
   "version": "3.11.2"
  }
 },
 "nbformat": 4,
 "nbformat_minor": 4
}
